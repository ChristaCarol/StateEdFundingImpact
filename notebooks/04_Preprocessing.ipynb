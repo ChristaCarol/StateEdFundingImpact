{
 "cells": [
  {
   "cell_type": "code",
   "execution_count": 3,
   "id": "217261a5-ac60-4d32-b223-45a3254e1746",
   "metadata": {},
   "outputs": [
    {
     "name": "stdout",
     "output_type": "stream",
     "text": [
      "                 Cohort_2015_2016  Rate_2015_2016  Cohort_2016_2017  \\\n",
      "STATE      YEAR                                                       \n",
      "ALABAMA    2016          145983.0       76.378635          110458.0   \n",
      "ALASKA     2016           25039.0       62.145089           25788.0   \n",
      "ARIZONA    2016          202193.0       65.798584          204878.0   \n",
      "ARKANSAS   2016           94906.0       76.651163          100439.0   \n",
      "CALIFORNIA 2016         1305135.0       76.375773         1256965.0   \n",
      "\n",
      "                 Rate_2016_2017  Cohort_2017_2018  Rate_2017_2018  \\\n",
      "STATE      YEAR                                                     \n",
      "ALABAMA    2016       81.771401          141949.0       77.201247   \n",
      "ALASKA     2016       63.026316           26634.0       63.012245   \n",
      "ARIZONA    2016       64.633005          217413.0       65.936614   \n",
      "ARKANSAS   2016       77.265913          102892.0       75.852765   \n",
      "CALIFORNIA 2016       76.089526         1312181.0       74.947489   \n",
      "\n",
      "                 Cohort_2018_2019  Rate_2018_2019  Cohort_2019_2020  \\\n",
      "STATE      YEAR                                                       \n",
      "ALABAMA    2016          133900.0       78.639080          136374.0   \n",
      "ALASKA     2016           26166.0       64.489540           25445.0   \n",
      "ARIZONA    2016          220323.0       65.405128          230145.0   \n",
      "ARKANSAS   2016          107551.0       74.131542          109168.0   \n",
      "CALIFORNIA 2016         1291970.0       75.708344         1285366.0   \n",
      "\n",
      "                 Rate_2019_2020  ...  NonTeacherSalary31_40  \\\n",
      "STATE      YEAR                  ...                          \n",
      "ALABAMA    2016       78.251689  ...               32828.32   \n",
      "ALASKA     2016       64.143154  ...               37052.49   \n",
      "ARIZONA    2016       64.288913  ...               35950.17   \n",
      "ARKANSAS   2016       74.784965  ...               34882.05   \n",
      "CALIFORNIA 2016       75.111411  ...               43665.66   \n",
      "\n",
      "                 TeacherSalary41_50  NonTeacherSalary41_50  \\\n",
      "STATE      YEAR                                              \n",
      "ALABAMA    2016            29130.38               38374.37   \n",
      "ALASKA     2016            39914.07               43198.14   \n",
      "ARIZONA    2016            27816.88               41050.90   \n",
      "ARKANSAS   2016            31496.40               39797.78   \n",
      "CALIFORNIA 2016            42029.13               50747.91   \n",
      "\n",
      "                 TeacherSalary51_60 NonTeacherSalary51_60 SalaryParityAge25  \\\n",
      "STATE      YEAR                                                               \n",
      "ALABAMA    2016            32792.91              43303.33          0.761113   \n",
      "ALASKA     2016            45417.38              48545.79          0.907741   \n",
      "ARIZONA    2016            30695.34              45302.91          0.671758   \n",
      "ARKANSAS   2016            34882.95              43975.61          0.790444   \n",
      "CALIFORNIA 2016            47337.85              57050.00          0.829881   \n",
      "\n",
      "                 SalaryParityAge35  SalaryParityAge45  SalaryParityAge55  \\\n",
      "STATE      YEAR                                                            \n",
      "ALABAMA    2016           0.759077           0.759110           0.757284   \n",
      "ALASKA     2016           0.926337           0.923977           0.935558   \n",
      "ARIZONA    2016           0.684872           0.677619           0.677558   \n",
      "ARKANSAS   2016           0.797938           0.791411           0.793234   \n",
      "CALIFORNIA 2016           0.835495           0.828194           0.829761   \n",
      "\n",
      "                 TotalTeacherSalary  \n",
      "STATE      YEAR                      \n",
      "ALABAMA    2016           108266.58  \n",
      "ALASKA     2016           148954.32  \n",
      "ARIZONA    2016           104431.09  \n",
      "ARKANSAS   2016           118483.55  \n",
      "CALIFORNIA 2016           157117.32  \n",
      "\n",
      "[5 rows x 34 columns]\n"
     ]
    }
   ],
   "source": [
    "import pandas as pd\n",
    "# Load the merged state graduation data\n",
    "grad_rates_path = r\"C:\\Users\\user\\Desktop\\StateEdFundingImpact\\data\\merged_state_grads_df.csv\"\n",
    "merged_state_grads_df = pd.read_csv(grad_rates_path, index_col='STATE')\n",
    "\n",
    "# Load the state funding data\n",
    "funding_data_path = r\"C:\\Users\\user\\Desktop\\StateEdFundingImpact\\data\\state_funding_df.csv\"\n",
    "state_funding_df = pd.read_csv(funding_data_path, index_col=['STATE', 'YEAR'])\n",
    "\n",
    "# Merge the two datasets\n",
    "state_funding_impact_df = merged_state_grads_df.merge(state_funding_df, left_index=True, right_index=True)\n",
    "\n",
    "# Check the first few rows of the merged DataFrame\n",
    "print(state_funding_impact_df.head())\n"
   ]
  },
  {
   "cell_type": "code",
   "execution_count": 6,
   "id": "ab5fa369-7806-4f24-a2c6-7fc9d85889e8",
   "metadata": {},
   "outputs": [
    {
     "name": "stdout",
     "output_type": "stream",
     "text": [
      "Index(['STATE', 'YEAR', 'Cohort_2015_2016', 'Rate_2015_2016',\n",
      "       'Cohort_2016_2017', 'Rate_2016_2017', 'Cohort_2017_2018',\n",
      "       'Rate_2017_2018', 'Cohort_2018_2019', 'Rate_2018_2019',\n",
      "       'Cohort_2019_2020', 'Rate_2019_2020', 'Cohort_2020_2021',\n",
      "       'Rate_2020_2021', 'Unnamed: 0', 'StateFIP', 'CensusRegion',\n",
      "       'CensusDivision', 'FiscalEffortPercentage',\n",
      "       'FiscalEffortIncomePercentage', 'PredictedCostPerPupilState',\n",
      "       'ActualSpendingPerPupilState', 'StateEnrollment', 'TeacherSalary25_30',\n",
      "       'NonTeacherSalary25_30', 'TeacherSalary31_40', 'NonTeacherSalary31_40',\n",
      "       'TeacherSalary41_50', 'NonTeacherSalary41_50', 'TeacherSalary51_60',\n",
      "       'NonTeacherSalary51_60', 'SalaryParityAge25', 'SalaryParityAge35',\n",
      "       'SalaryParityAge45', 'SalaryParityAge55', 'TotalTeacherSalary'],\n",
      "      dtype='object')\n"
     ]
    }
   ],
   "source": [
    "# Reset the index so 'STATE' and 'YEAR' become columns\n",
    "state_funding_impact_df_reset = state_funding_impact_df.reset_index()\n",
    "\n",
    "# Display the columns to confirm available value_vars\n",
    "print(state_funding_impact_df_reset.columns)\n"
   ]
  },
  {
   "cell_type": "code",
   "execution_count": 8,
   "id": "e8c470a0-9de5-455e-8767-2c671d16adff",
   "metadata": {},
   "outputs": [
    {
     "name": "stdout",
     "output_type": "stream",
     "text": [
      "        STATE  YEAR   Year_GradRate  Grad_Rate\n",
      "0     ALABAMA  2016  Rate_2015_2016  76.378635\n",
      "1      ALASKA  2016  Rate_2015_2016  62.145089\n",
      "2     ARIZONA  2016  Rate_2015_2016  65.798584\n",
      "3    ARKANSAS  2016  Rate_2015_2016  76.651163\n",
      "4  CALIFORNIA  2016  Rate_2015_2016  76.375773\n"
     ]
    }
   ],
   "source": [
    "# Reset the index so 'STATE' and 'YEAR' become columns\n",
    "state_funding_impact_df_reset = state_funding_impact_df.reset_index()\n",
    "\n",
    "# Melt the graduation rate columns\n",
    "melted_grad_rate_df = state_funding_impact_df_reset.melt(\n",
    "    id_vars=['STATE', 'YEAR'], \n",
    "    value_vars=['Rate_2015_2016', 'Rate_2016_2017', 'Rate_2017_2018', 'Rate_2018_2019', 'Rate_2019_2020', 'Rate_2020_2021'],\n",
    "    var_name='Year_GradRate', \n",
    "    value_name='Grad_Rate'\n",
    ")\n",
    "\n",
    "# Display the first few rows to confirm\n",
    "print(melted_grad_rate_df.head())\n"
   ]
  },
  {
   "cell_type": "code",
   "execution_count": 10,
   "id": "3f42f7e6-46bb-47b1-bf95-d1ae9d4a6caf",
   "metadata": {},
   "outputs": [
    {
     "name": "stdout",
     "output_type": "stream",
     "text": [
      "        STATE  YEAR                  Year_Budget  TotalBudget\n",
      "0     ALABAMA  2016  ActualSpendingPerPupilState     9243.286\n",
      "1      ALASKA  2016  ActualSpendingPerPupilState    17631.310\n",
      "2     ARIZONA  2016  ActualSpendingPerPupilState     7530.644\n",
      "3    ARKANSAS  2016  ActualSpendingPerPupilState     9639.397\n",
      "4  CALIFORNIA  2016  ActualSpendingPerPupilState    10993.270\n"
     ]
    }
   ],
   "source": [
    "# Reset the index so 'STATE' and 'YEAR' become columns\n",
    "state_funding_impact_df_reset = state_funding_impact_df.reset_index()\n",
    "\n",
    "# Assuming we treat ActualSpendingPerPupilState as TotalBudget\n",
    "melted_budget_df = state_funding_impact_df_reset.melt(\n",
    "    id_vars=['STATE', 'YEAR'], \n",
    "    value_vars=['ActualSpendingPerPupilState'],\n",
    "    var_name='Year_Budget', \n",
    "    value_name='TotalBudget'\n",
    ")\n",
    "\n",
    "# Display the first few rows to confirm\n",
    "print(melted_budget_df.head())\n"
   ]
  },
  {
   "cell_type": "code",
   "execution_count": 12,
   "id": "8a643c07-260a-4f66-9d47-3d377eff77ba",
   "metadata": {},
   "outputs": [
    {
     "name": "stdout",
     "output_type": "stream",
     "text": [
      "     STATE  YEAR   Year_GradRate  Grad_Rate                  Year_Budget  \\\n",
      "0  ALABAMA  2016  Rate_2015_2016  76.378635  ActualSpendingPerPupilState   \n",
      "1  ALABAMA  2016  Rate_2016_2017  81.771401  ActualSpendingPerPupilState   \n",
      "2  ALABAMA  2016  Rate_2017_2018  77.201247  ActualSpendingPerPupilState   \n",
      "3  ALABAMA  2016  Rate_2018_2019  78.639080  ActualSpendingPerPupilState   \n",
      "4  ALABAMA  2016  Rate_2019_2020  78.251689  ActualSpendingPerPupilState   \n",
      "\n",
      "   TotalBudget  \n",
      "0     9243.286  \n",
      "1     9243.286  \n",
      "2     9243.286  \n",
      "3     9243.286  \n",
      "4     9243.286  \n"
     ]
    }
   ],
   "source": [
    "# Combine the melted dataframes\n",
    "combined_melted_df = pd.merge(melted_grad_rate_df, melted_budget_df, on=['STATE', 'YEAR'])\n",
    "\n",
    "# Save the combined melted DataFrame to a CSV file\n",
    "combined_melted_df.to_csv(r\"C:\\Users\\user\\Desktop\\StateEdFundingImpact\\data\\state_funding_impact_melted.csv\", index=False)\n",
    "\n",
    "# Display the first few rows to confirm\n",
    "print(combined_melted_df.head())\n"
   ]
  },
  {
   "cell_type": "markdown",
   "id": "6fdf73b7-051e-48f1-9f26-4b0038ee59c8",
   "metadata": {},
   "source": [
    "# Split the DataFrame into Features and Target"
   ]
  },
  {
   "cell_type": "code",
   "execution_count": 14,
   "id": "11ffc2a2-cda6-496c-8b2e-73490b6f59ee",
   "metadata": {},
   "outputs": [
    {
     "name": "stdout",
     "output_type": "stream",
     "text": [
      "   YEAR  TotalBudget  STATE_ALASKA  STATE_ARIZONA  STATE_ARKANSAS  \\\n",
      "0  2016     9243.286         False          False           False   \n",
      "1  2016     9243.286         False          False           False   \n",
      "2  2016     9243.286         False          False           False   \n",
      "3  2016     9243.286         False          False           False   \n",
      "4  2016     9243.286         False          False           False   \n",
      "\n",
      "   STATE_CALIFORNIA  STATE_COLORADO  STATE_CONNECTICUT  STATE_DELAWARE  \\\n",
      "0             False           False              False           False   \n",
      "1             False           False              False           False   \n",
      "2             False           False              False           False   \n",
      "3             False           False              False           False   \n",
      "4             False           False              False           False   \n",
      "\n",
      "   STATE_DISTRICT OF COLUMBIA  ...  STATE_VERMONT  STATE_VIRGINIA  \\\n",
      "0                       False  ...          False           False   \n",
      "1                       False  ...          False           False   \n",
      "2                       False  ...          False           False   \n",
      "3                       False  ...          False           False   \n",
      "4                       False  ...          False           False   \n",
      "\n",
      "   STATE_WEST VIRGINIA  STATE_WISCONSIN  STATE_WYOMING  \\\n",
      "0                False            False          False   \n",
      "1                False            False          False   \n",
      "2                False            False          False   \n",
      "3                False            False          False   \n",
      "4                False            False          False   \n",
      "\n",
      "   Year_GradRate_Rate_2016_2017  Year_GradRate_Rate_2017_2018  \\\n",
      "0                         False                         False   \n",
      "1                          True                         False   \n",
      "2                         False                          True   \n",
      "3                         False                         False   \n",
      "4                         False                         False   \n",
      "\n",
      "   Year_GradRate_Rate_2018_2019  Year_GradRate_Rate_2019_2020  \\\n",
      "0                         False                         False   \n",
      "1                         False                         False   \n",
      "2                         False                         False   \n",
      "3                          True                         False   \n",
      "4                         False                          True   \n",
      "\n",
      "   Year_GradRate_Rate_2020_2021  \n",
      "0                         False  \n",
      "1                         False  \n",
      "2                         False  \n",
      "3                         False  \n",
      "4                         False  \n",
      "\n",
      "[5 rows x 55 columns]\n"
     ]
    }
   ],
   "source": [
    "# Define the features (X) and target (y)\n",
    "features = combined_melted_df.drop(columns=['Grad_Rate'])\n",
    "target = combined_melted_df['Grad_Rate']\n",
    "\n",
    "# Convert categorical columns to dummy variables\n",
    "features = pd.get_dummies(features, drop_first=True)\n",
    "\n",
    "# Display the first few rows to confirm\n",
    "print(features.head())\n"
   ]
  },
  {
   "cell_type": "markdown",
   "id": "eb08ace0-8ebe-4838-8907-49252b4dc109",
   "metadata": {},
   "source": [
    "# Splitting the Data into Training and Testing Sets"
   ]
  },
  {
   "cell_type": "code",
   "execution_count": 16,
   "id": "cc17f544-bf6b-4d63-a642-7b05f9a57301",
   "metadata": {},
   "outputs": [
    {
     "name": "stdout",
     "output_type": "stream",
     "text": [
      "(1411, 55) (1411,)\n",
      "(353, 55) (353,)\n"
     ]
    }
   ],
   "source": [
    "from sklearn.model_selection import train_test_split\n",
    "\n",
    "# Split the data into training and testing sets\n",
    "X_train, X_test, y_train, y_test = train_test_split(features, target, test_size=0.2, random_state=42)\n",
    "\n",
    "# Display the shapes of the resulting datasets to confirm\n",
    "print(X_train.shape, y_train.shape)\n",
    "print(X_test.shape, y_test.shape)\n"
   ]
  },
  {
   "cell_type": "markdown",
   "id": "7283a0f6-cd8b-4464-b65e-8f06659db468",
   "metadata": {},
   "source": [
    "# Standardizing the Numeric Features"
   ]
  },
  {
   "cell_type": "code",
   "execution_count": 29,
   "id": "5462397b-6b85-48c2-810c-418bb1147723",
   "metadata": {},
   "outputs": [
    {
     "name": "stdout",
     "output_type": "stream",
     "text": [
      "       YEAR  TotalBudget  STATE_ALASKA  STATE_ARIZONA  STATE_ARKANSAS  \\\n",
      "0 -0.286235     1.065427     -0.147389      -0.149879       -0.144859   \n",
      "1  0.300796     0.609174     -0.147389      -0.149879       -0.144859   \n",
      "2 -0.286235    -0.126200     -0.147389      -0.149879       -0.144859   \n",
      "3  0.887828    -0.380356     -0.147389      -0.149879       -0.144859   \n",
      "4 -1.460298     0.003801     -0.147389      -0.149879       -0.144859   \n",
      "\n",
      "   STATE_CALIFORNIA  STATE_COLORADO  STATE_CONNECTICUT  STATE_DELAWARE  \\\n",
      "0         -0.144859       -0.147389          -0.149879       -0.147389   \n",
      "1         -0.144859       -0.147389          -0.149879       -0.147389   \n",
      "2         -0.144859       -0.147389          -0.149879       -0.147389   \n",
      "3         -0.144859       -0.147389          -0.149879       -0.147389   \n",
      "4         -0.144859       -0.147389          -0.149879       -0.147389   \n",
      "\n",
      "   STATE_DISTRICT OF COLUMBIA  ...  STATE_VERMONT  STATE_VIRGINIA  \\\n",
      "0                   -0.139673  ...      -0.147389       -0.131543   \n",
      "1                   -0.139673  ...      -0.147389       -0.131543   \n",
      "2                   -0.139673  ...      -0.147389       -0.131543   \n",
      "3                   -0.139673  ...      -0.147389       -0.131543   \n",
      "4                   -0.139673  ...      -0.147389       -0.131543   \n",
      "\n",
      "   STATE_WEST VIRGINIA  STATE_WISCONSIN  STATE_WYOMING  \\\n",
      "0            -0.149879        -0.149879      -0.137013   \n",
      "1            -0.149879        -0.149879      -0.137013   \n",
      "2            -0.149879        -0.149879      -0.137013   \n",
      "3            -0.149879        -0.149879      -0.137013   \n",
      "4            -0.149879        -0.149879      -0.137013   \n",
      "\n",
      "   Year_GradRate_Rate_2016_2017  Year_GradRate_Rate_2017_2018  \\\n",
      "0                     -0.437862                     -0.447023   \n",
      "1                     -0.437862                     -0.447023   \n",
      "2                     -0.437862                      2.237019   \n",
      "3                     -0.437862                     -0.447023   \n",
      "4                      2.283826                     -0.447023   \n",
      "\n",
      "   Year_GradRate_Rate_2018_2019  Year_GradRate_Rate_2019_2020  \\\n",
      "0                      2.231326                     -0.454989   \n",
      "1                     -0.448164                     -0.454989   \n",
      "2                     -0.448164                     -0.454989   \n",
      "3                     -0.448164                     -0.454989   \n",
      "4                     -0.448164                     -0.454989   \n",
      "\n",
      "   Year_GradRate_Rate_2020_2021  \n",
      "0                     -0.451580  \n",
      "1                      2.214445  \n",
      "2                     -0.451580  \n",
      "3                      2.214445  \n",
      "4                     -0.451580  \n",
      "\n",
      "[5 rows x 55 columns]\n"
     ]
    }
   ],
   "source": [
    "from sklearn.preprocessing import StandardScaler\n",
    "\n",
    "# Initialize the StandardScaler\n",
    "scaler = StandardScaler()\n",
    "\n",
    "# Fit the scaler on the training data and transform both training and testing data\n",
    "X_train_scaled = scaler.fit_transform(X_train)\n",
    "X_test_scaled = scaler.transform(X_test)\n",
    "\n",
    "# Convert the scaled arrays back to dataframes for easier inspection (optional)\n",
    "X_train_scaled = pd.DataFrame(X_train_scaled, columns=X_train.columns)\n",
    "X_test_scaled = pd.DataFrame(X_test_scaled, columns=X_test.columns)\n",
    "\n",
    "# Display the first few rows of the scaled training data\n",
    "print(X_train_scaled.head())\n"
   ]
  },
  {
   "cell_type": "markdown",
   "id": "63814557-a199-4a3c-9ea6-0dbae59a5440",
   "metadata": {},
   "source": [
    "# Save Results"
   ]
  },
  {
   "cell_type": "code",
   "execution_count": 30,
   "id": "25b73e1e-11b3-4ba2-8edd-e40336e9d5a7",
   "metadata": {},
   "outputs": [
    {
     "name": "stdout",
     "output_type": "stream",
     "text": [
      "Preprocessing complete. Data saved and ready for modeling.\n"
     ]
    }
   ],
   "source": [
    "# Save the preprocessed data (optional)\n",
    "X_train_scaled.to_csv('X_train_preprocessed.csv', index=False)\n",
    "X_test_scaled.to_csv('X_test_preprocessed.csv', index=False)\n",
    "y_train.to_csv('y_train_preprocessed.csv', index=False)\n",
    "y_test.to_csv('y_test_preprocessed.csv', index=False)\n",
    "\n",
    "print(\"Preprocessing complete. Data saved and ready for modeling.\")"
   ]
  }
 ],
 "metadata": {
  "kernelspec": {
   "display_name": "Python 3 (ipykernel)",
   "language": "python",
   "name": "python3"
  },
  "language_info": {
   "codemirror_mode": {
    "name": "ipython",
    "version": 3
   },
   "file_extension": ".py",
   "mimetype": "text/x-python",
   "name": "python",
   "nbconvert_exporter": "python",
   "pygments_lexer": "ipython3",
   "version": "3.11.7"
  }
 },
 "nbformat": 4,
 "nbformat_minor": 5
}
