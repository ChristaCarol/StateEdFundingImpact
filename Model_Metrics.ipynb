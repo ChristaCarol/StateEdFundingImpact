{
 "cells": [
  {
   "cell_type": "code",
   "execution_count": 1,
   "id": "45ff03ae-668b-4d15-86e8-38a85e4cf434",
   "metadata": {},
   "outputs": [
    {
     "name": "stdout",
     "output_type": "stream",
     "text": [
      "Model metrics saved successfully to data/Model_Metrics.csv\n"
     ]
    }
   ],
   "source": [
    "import pandas as pd\n",
    "\n",
    "# Create a DataFrame with your model metrics\n",
    "metrics_data = {\n",
    "    'Model': ['Random Forest', 'Gradient Boosting'],\n",
    "    'Features': ['TotalBudget, TeacherSalary, FiscalEffort, StateEnrollment', \n",
    "                 'TotalBudget, TeacherSalary, FiscalEffort, StateEnrollment'],\n",
    "    'Parameters': ['n_estimators=100, max_depth=None, random_state=42', \n",
    "                   'n_estimators=200, max_depth=5, learning_rate=0.1, random_state=42'],\n",
    "    'Hyperparameters': ['max_features=auto', 'subsample=0.8'],\n",
    "    'Performance Metrics': ['MSE=0.01246, R^2=0.99037', 'MSE=0.0183, R^2=0.985']\n",
    "}\n",
    "\n",
    "df_metrics = pd.DataFrame(metrics_data)\n",
    "\n",
    "# Path to save the CSV file\n",
    "path_to_save_csv = 'data/Model_Metrics.csv'\n",
    "\n",
    "# Save the DataFrame to a CSV file\n",
    "df_metrics.to_csv(path_to_save_csv, index=False)\n",
    "\n",
    "print(f\"Model metrics saved successfully to {path_to_save_csv}\")\n"
   ]
  }
 ],
 "metadata": {
  "kernelspec": {
   "display_name": "Python 3 (ipykernel)",
   "language": "python",
   "name": "python3"
  },
  "language_info": {
   "codemirror_mode": {
    "name": "ipython",
    "version": 3
   },
   "file_extension": ".py",
   "mimetype": "text/x-python",
   "name": "python",
   "nbconvert_exporter": "python",
   "pygments_lexer": "ipython3",
   "version": "3.11.7"
  }
 },
 "nbformat": 4,
 "nbformat_minor": 5
}
